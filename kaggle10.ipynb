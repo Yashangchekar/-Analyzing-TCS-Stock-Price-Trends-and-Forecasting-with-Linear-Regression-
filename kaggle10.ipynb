{
 "cells": [
  {
   "cell_type": "code",
   "execution_count": 1,
   "id": "e0b40e87",
   "metadata": {},
   "outputs": [],
   "source": [
    "import numpy as np\n",
    "import pandas as pd\n",
    "import seaborn as sb\n",
    "import matplotlib.pyplot as plt\n",
    "import warnings\n",
    "warnings.filterwarnings('ignore')"
   ]
  },
  {
   "cell_type": "code",
   "execution_count": 2,
   "id": "5196a5e1",
   "metadata": {},
   "outputs": [
    {
     "data": {
      "text/html": [
       "<div>\n",
       "<style scoped>\n",
       "    .dataframe tbody tr th:only-of-type {\n",
       "        vertical-align: middle;\n",
       "    }\n",
       "\n",
       "    .dataframe tbody tr th {\n",
       "        vertical-align: top;\n",
       "    }\n",
       "\n",
       "    .dataframe thead th {\n",
       "        text-align: right;\n",
       "    }\n",
       "</style>\n",
       "<table border=\"1\" class=\"dataframe\">\n",
       "  <thead>\n",
       "    <tr style=\"text-align: right;\">\n",
       "      <th></th>\n",
       "      <th>Date</th>\n",
       "      <th>Open</th>\n",
       "      <th>High</th>\n",
       "      <th>Low</th>\n",
       "      <th>Close</th>\n",
       "      <th>Volume</th>\n",
       "      <th>Dividends</th>\n",
       "      <th>Stock Splits</th>\n",
       "    </tr>\n",
       "  </thead>\n",
       "  <tbody>\n",
       "    <tr>\n",
       "      <th>0</th>\n",
       "      <td>12-08-2002</td>\n",
       "      <td>28.794172</td>\n",
       "      <td>29.742206</td>\n",
       "      <td>28.794172</td>\n",
       "      <td>29.519140</td>\n",
       "      <td>212976</td>\n",
       "      <td>0.0</td>\n",
       "      <td>0</td>\n",
       "    </tr>\n",
       "    <tr>\n",
       "      <th>1</th>\n",
       "      <td>13-08-2002</td>\n",
       "      <td>29.556316</td>\n",
       "      <td>30.030333</td>\n",
       "      <td>28.905705</td>\n",
       "      <td>29.119476</td>\n",
       "      <td>153576</td>\n",
       "      <td>0.0</td>\n",
       "      <td>0</td>\n",
       "    </tr>\n",
       "    <tr>\n",
       "      <th>2</th>\n",
       "      <td>14-08-2002</td>\n",
       "      <td>29.184536</td>\n",
       "      <td>29.184536</td>\n",
       "      <td>26.563503</td>\n",
       "      <td>27.111877</td>\n",
       "      <td>822776</td>\n",
       "      <td>0.0</td>\n",
       "      <td>0</td>\n",
       "    </tr>\n",
       "    <tr>\n",
       "      <th>3</th>\n",
       "      <td>15-08-2002</td>\n",
       "      <td>27.111877</td>\n",
       "      <td>27.111877</td>\n",
       "      <td>27.111877</td>\n",
       "      <td>27.111877</td>\n",
       "      <td>0</td>\n",
       "      <td>0.0</td>\n",
       "      <td>0</td>\n",
       "    </tr>\n",
       "    <tr>\n",
       "      <th>4</th>\n",
       "      <td>16-08-2002</td>\n",
       "      <td>26.972458</td>\n",
       "      <td>28.255089</td>\n",
       "      <td>26.582090</td>\n",
       "      <td>27.046812</td>\n",
       "      <td>811856</td>\n",
       "      <td>0.0</td>\n",
       "      <td>0</td>\n",
       "    </tr>\n",
       "    <tr>\n",
       "      <th>...</th>\n",
       "      <td>...</td>\n",
       "      <td>...</td>\n",
       "      <td>...</td>\n",
       "      <td>...</td>\n",
       "      <td>...</td>\n",
       "      <td>...</td>\n",
       "      <td>...</td>\n",
       "      <td>...</td>\n",
       "    </tr>\n",
       "    <tr>\n",
       "      <th>4458</th>\n",
       "      <td>24-09-2021</td>\n",
       "      <td>3890.000000</td>\n",
       "      <td>3944.399902</td>\n",
       "      <td>3855.000000</td>\n",
       "      <td>3871.300049</td>\n",
       "      <td>2320754</td>\n",
       "      <td>0.0</td>\n",
       "      <td>0</td>\n",
       "    </tr>\n",
       "    <tr>\n",
       "      <th>4459</th>\n",
       "      <td>27-09-2021</td>\n",
       "      <td>3900.000000</td>\n",
       "      <td>3904.000000</td>\n",
       "      <td>3802.899902</td>\n",
       "      <td>3836.949951</td>\n",
       "      <td>1673362</td>\n",
       "      <td>0.0</td>\n",
       "      <td>0</td>\n",
       "    </tr>\n",
       "    <tr>\n",
       "      <th>4460</th>\n",
       "      <td>28-09-2021</td>\n",
       "      <td>3850.000000</td>\n",
       "      <td>3850.000000</td>\n",
       "      <td>3751.250000</td>\n",
       "      <td>3779.149902</td>\n",
       "      <td>2253075</td>\n",
       "      <td>0.0</td>\n",
       "      <td>0</td>\n",
       "    </tr>\n",
       "    <tr>\n",
       "      <th>4461</th>\n",
       "      <td>29-09-2021</td>\n",
       "      <td>3759.800049</td>\n",
       "      <td>3806.000000</td>\n",
       "      <td>3722.149902</td>\n",
       "      <td>3791.899902</td>\n",
       "      <td>2489161</td>\n",
       "      <td>0.0</td>\n",
       "      <td>0</td>\n",
       "    </tr>\n",
       "    <tr>\n",
       "      <th>4462</th>\n",
       "      <td>30-09-2021</td>\n",
       "      <td>3805.000000</td>\n",
       "      <td>3805.000000</td>\n",
       "      <td>3765.000000</td>\n",
       "      <td>3773.199951</td>\n",
       "      <td>640479</td>\n",
       "      <td>0.0</td>\n",
       "      <td>0</td>\n",
       "    </tr>\n",
       "  </tbody>\n",
       "</table>\n",
       "<p>4463 rows × 8 columns</p>\n",
       "</div>"
      ],
      "text/plain": [
       "            Date         Open         High          Low        Close   Volume  \\\n",
       "0     12-08-2002    28.794172    29.742206    28.794172    29.519140   212976   \n",
       "1     13-08-2002    29.556316    30.030333    28.905705    29.119476   153576   \n",
       "2     14-08-2002    29.184536    29.184536    26.563503    27.111877   822776   \n",
       "3     15-08-2002    27.111877    27.111877    27.111877    27.111877        0   \n",
       "4     16-08-2002    26.972458    28.255089    26.582090    27.046812   811856   \n",
       "...          ...          ...          ...          ...          ...      ...   \n",
       "4458  24-09-2021  3890.000000  3944.399902  3855.000000  3871.300049  2320754   \n",
       "4459  27-09-2021  3900.000000  3904.000000  3802.899902  3836.949951  1673362   \n",
       "4460  28-09-2021  3850.000000  3850.000000  3751.250000  3779.149902  2253075   \n",
       "4461  29-09-2021  3759.800049  3806.000000  3722.149902  3791.899902  2489161   \n",
       "4462  30-09-2021  3805.000000  3805.000000  3765.000000  3773.199951   640479   \n",
       "\n",
       "      Dividends  Stock Splits  \n",
       "0           0.0             0  \n",
       "1           0.0             0  \n",
       "2           0.0             0  \n",
       "3           0.0             0  \n",
       "4           0.0             0  \n",
       "...         ...           ...  \n",
       "4458        0.0             0  \n",
       "4459        0.0             0  \n",
       "4460        0.0             0  \n",
       "4461        0.0             0  \n",
       "4462        0.0             0  \n",
       "\n",
       "[4463 rows x 8 columns]"
      ]
     },
     "execution_count": 2,
     "metadata": {},
     "output_type": "execute_result"
    }
   ],
   "source": [
    "#importing data\n",
    "df=pd.read_csv('TCS_stock_history.csv')\n",
    "df"
   ]
  },
  {
   "cell_type": "code",
   "execution_count": 3,
   "id": "dfae8f7d",
   "metadata": {},
   "outputs": [
    {
     "data": {
      "text/plain": [
       "Date             object\n",
       "Open            float64\n",
       "High            float64\n",
       "Low             float64\n",
       "Close           float64\n",
       "Volume            int64\n",
       "Dividends       float64\n",
       "Stock Splits      int64\n",
       "dtype: object"
      ]
     },
     "execution_count": 3,
     "metadata": {},
     "output_type": "execute_result"
    }
   ],
   "source": [
    "df.dtypes #checking datatypes"
   ]
  },
  {
   "cell_type": "code",
   "execution_count": 4,
   "id": "cf7649c1",
   "metadata": {},
   "outputs": [
    {
     "data": {
      "text/plain": [
       "Date            0.0\n",
       "Open            0.0\n",
       "High            0.0\n",
       "Low             0.0\n",
       "Close           0.0\n",
       "Volume          0.0\n",
       "Dividends       0.0\n",
       "Stock Splits    0.0\n",
       "dtype: float64"
      ]
     },
     "execution_count": 4,
     "metadata": {},
     "output_type": "execute_result"
    }
   ],
   "source": [
    "df.isnull().sum()/df.shape[0]*100"
   ]
  },
  {
   "cell_type": "code",
   "execution_count": 5,
   "id": "fe17ab8f",
   "metadata": {},
   "outputs": [
    {
     "data": {
      "text/plain": [
       "<Axes: >"
      ]
     },
     "execution_count": 5,
     "metadata": {},
     "output_type": "execute_result"
    },
    {
     "data": {
      "image/png": "[encoded data removed]",
      "text/plain": [
       "<Figure size 640x480 with 2 Axes>"
      ]
     },
     "metadata": {},
     "output_type": "display_data"
    }
   ],
   "source": [
    "sb.heatmap(df.isnull()) #checking for null values"
   ]
  },
  {
   "cell_type": "code",
   "execution_count": 6,
   "id": "aa160057",
   "metadata": {},
   "outputs": [
    {
     "data": {
      "text/plain": [
       "0"
      ]
     },
     "execution_count": 6,
     "metadata": {},
     "output_type": "execute_result"
    }
   ],
   "source": [
    "df.duplicated().sum() #checking for duplicates"
   ]
  },
  {
   "cell_type": "code",
   "execution_count": 7,
   "id": "8a6a8865",
   "metadata": {},
   "outputs": [
    {
     "data": {
      "text/html": [
       "<div>\n",
       "<style scoped>\n",
       "    .dataframe tbody tr th:only-of-type {\n",
       "        vertical-align: middle;\n",
       "    }\n",
       "\n",
       "    .dataframe tbody tr th {\n",
       "        vertical-align: top;\n",
       "    }\n",
       "\n",
       "    .dataframe thead th {\n",
       "        text-align: right;\n",
       "    }\n",
       "</style>\n",
       "<table border=\"1\" class=\"dataframe\">\n",
       "  <thead>\n",
       "    <tr style=\"text-align: right;\">\n",
       "      <th></th>\n",
       "      <th>Date</th>\n",
       "    </tr>\n",
       "  </thead>\n",
       "  <tbody>\n",
       "    <tr>\n",
       "      <th>0</th>\n",
       "      <td>12-08-2002</td>\n",
       "    </tr>\n",
       "    <tr>\n",
       "      <th>1</th>\n",
       "      <td>13-08-2002</td>\n",
       "    </tr>\n",
       "    <tr>\n",
       "      <th>2</th>\n",
       "      <td>14-08-2002</td>\n",
       "    </tr>\n",
       "    <tr>\n",
       "      <th>3</th>\n",
       "      <td>15-08-2002</td>\n",
       "    </tr>\n",
       "    <tr>\n",
       "      <th>4</th>\n",
       "      <td>16-08-2002</td>\n",
       "    </tr>\n",
       "    <tr>\n",
       "      <th>...</th>\n",
       "      <td>...</td>\n",
       "    </tr>\n",
       "    <tr>\n",
       "      <th>4458</th>\n",
       "      <td>24-09-2021</td>\n",
       "    </tr>\n",
       "    <tr>\n",
       "      <th>4459</th>\n",
       "      <td>27-09-2021</td>\n",
       "    </tr>\n",
       "    <tr>\n",
       "      <th>4460</th>\n",
       "      <td>28-09-2021</td>\n",
       "    </tr>\n",
       "    <tr>\n",
       "      <th>4461</th>\n",
       "      <td>29-09-2021</td>\n",
       "    </tr>\n",
       "    <tr>\n",
       "      <th>4462</th>\n",
       "      <td>30-09-2021</td>\n",
       "    </tr>\n",
       "  </tbody>\n",
       "</table>\n",
       "<p>4463 rows × 1 columns</p>\n",
       "</div>"
      ],
      "text/plain": [
       "            Date\n",
       "0     12-08-2002\n",
       "1     13-08-2002\n",
       "2     14-08-2002\n",
       "3     15-08-2002\n",
       "4     16-08-2002\n",
       "...          ...\n",
       "4458  24-09-2021\n",
       "4459  27-09-2021\n",
       "4460  28-09-2021\n",
       "4461  29-09-2021\n",
       "4462  30-09-2021\n",
       "\n",
       "[4463 rows x 1 columns]"
      ]
     },
     "execution_count": 7,
     "metadata": {},
     "output_type": "execute_result"
    }
   ],
   "source": [
    "df_obj=df.select_dtypes(object)\n",
    "df_obj   #seprating object type of data"
   ]
  },
  {
   "cell_type": "code",
   "execution_count": 8,
   "id": "5a7b8b3e",
   "metadata": {},
   "outputs": [
    {
     "data": {
      "text/html": [
       "<div>\n",
       "<style scoped>\n",
       "    .dataframe tbody tr th:only-of-type {\n",
       "        vertical-align: middle;\n",
       "    }\n",
       "\n",
       "    .dataframe tbody tr th {\n",
       "        vertical-align: top;\n",
       "    }\n",
       "\n",
       "    .dataframe thead th {\n",
       "        text-align: right;\n",
       "    }\n",
       "</style>\n",
       "<table border=\"1\" class=\"dataframe\">\n",
       "  <thead>\n",
       "    <tr style=\"text-align: right;\">\n",
       "      <th></th>\n",
       "      <th>Open</th>\n",
       "      <th>High</th>\n",
       "      <th>Low</th>\n",
       "      <th>Close</th>\n",
       "      <th>Volume</th>\n",
       "      <th>Dividends</th>\n",
       "      <th>Stock Splits</th>\n",
       "    </tr>\n",
       "  </thead>\n",
       "  <tbody>\n",
       "    <tr>\n",
       "      <th>0</th>\n",
       "      <td>28.794172</td>\n",
       "      <td>29.742206</td>\n",
       "      <td>28.794172</td>\n",
       "      <td>29.519140</td>\n",
       "      <td>212976</td>\n",
       "      <td>0.0</td>\n",
       "      <td>0</td>\n",
       "    </tr>\n",
       "    <tr>\n",
       "      <th>1</th>\n",
       "      <td>29.556316</td>\n",
       "      <td>30.030333</td>\n",
       "      <td>28.905705</td>\n",
       "      <td>29.119476</td>\n",
       "      <td>153576</td>\n",
       "      <td>0.0</td>\n",
       "      <td>0</td>\n",
       "    </tr>\n",
       "    <tr>\n",
       "      <th>2</th>\n",
       "      <td>29.184536</td>\n",
       "      <td>29.184536</td>\n",
       "      <td>26.563503</td>\n",
       "      <td>27.111877</td>\n",
       "      <td>822776</td>\n",
       "      <td>0.0</td>\n",
       "      <td>0</td>\n",
       "    </tr>\n",
       "    <tr>\n",
       "      <th>3</th>\n",
       "      <td>27.111877</td>\n",
       "      <td>27.111877</td>\n",
       "      <td>27.111877</td>\n",
       "      <td>27.111877</td>\n",
       "      <td>0</td>\n",
       "      <td>0.0</td>\n",
       "      <td>0</td>\n",
       "    </tr>\n",
       "    <tr>\n",
       "      <th>4</th>\n",
       "      <td>26.972458</td>\n",
       "      <td>28.255089</td>\n",
       "      <td>26.582090</td>\n",
       "      <td>27.046812</td>\n",
       "      <td>811856</td>\n",
       "      <td>0.0</td>\n",
       "      <td>0</td>\n",
       "    </tr>\n",
       "    <tr>\n",
       "      <th>...</th>\n",
       "      <td>...</td>\n",
       "      <td>...</td>\n",
       "      <td>...</td>\n",
       "      <td>...</td>\n",
       "      <td>...</td>\n",
       "      <td>...</td>\n",
       "      <td>...</td>\n",
       "    </tr>\n",
       "    <tr>\n",
       "      <th>4458</th>\n",
       "      <td>3890.000000</td>\n",
       "      <td>3944.399902</td>\n",
       "      <td>3855.000000</td>\n",
       "      <td>3871.300049</td>\n",
       "      <td>2320754</td>\n",
       "      <td>0.0</td>\n",
       "      <td>0</td>\n",
       "    </tr>\n",
       "    <tr>\n",
       "      <th>4459</th>\n",
       "      <td>3900.000000</td>\n",
       "      <td>3904.000000</td>\n",
       "      <td>3802.899902</td>\n",
       "      <td>3836.949951</td>\n",
       "      <td>1673362</td>\n",
       "      <td>0.0</td>\n",
       "      <td>0</td>\n",
       "    </tr>\n",
       "    <tr>\n",
       "      <th>4460</th>\n",
       "      <td>3850.000000</td>\n",
       "      <td>3850.000000</td>\n",
       "      <td>3751.250000</td>\n",
       "      <td>3779.149902</td>\n",
       "      <td>2253075</td>\n",
       "      <td>0.0</td>\n",
       "      <td>0</td>\n",
       "    </tr>\n",
       "    <tr>\n",
       "      <th>4461</th>\n",
       "      <td>3759.800049</td>\n",
       "      <td>3806.000000</td>\n",
       "      <td>3722.149902</td>\n",
       "      <td>3791.899902</td>\n",
       "      <td>2489161</td>\n",
       "      <td>0.0</td>\n",
       "      <td>0</td>\n",
       "    </tr>\n",
       "    <tr>\n",
       "      <th>4462</th>\n",
       "      <td>3805.000000</td>\n",
       "      <td>3805.000000</td>\n",
       "      <td>3765.000000</td>\n",
       "      <td>3773.199951</td>\n",
       "      <td>640479</td>\n",
       "      <td>0.0</td>\n",
       "      <td>0</td>\n",
       "    </tr>\n",
       "  </tbody>\n",
       "</table>\n",
       "<p>4463 rows × 7 columns</p>\n",
       "</div>"
      ],
      "text/plain": [
       "             Open         High          Low        Close   Volume  Dividends  \\\n",
       "0       28.794172    29.742206    28.794172    29.519140   212976        0.0   \n",
       "1       29.556316    30.030333    28.905705    29.119476   153576        0.0   \n",
       "2       29.184536    29.184536    26.563503    27.111877   822776        0.0   \n",
       "3       27.111877    27.111877    27.111877    27.111877        0        0.0   \n",
       "4       26.972458    28.255089    26.582090    27.046812   811856        0.0   \n",
       "...           ...          ...          ...          ...      ...        ...   \n",
       "4458  3890.000000  3944.399902  3855.000000  3871.300049  2320754        0.0   \n",
       "4459  3900.000000  3904.000000  3802.899902  3836.949951  1673362        0.0   \n",
       "4460  3850.000000  3850.000000  3751.250000  3779.149902  2253075        0.0   \n",
       "4461  3759.800049  3806.000000  3722.149902  3791.899902  2489161        0.0   \n",
       "4462  3805.000000  3805.000000  3765.000000  3773.199951   640479        0.0   \n",
       "\n",
       "      Stock Splits  \n",
       "0                0  \n",
       "1                0  \n",
       "2                0  \n",
       "3                0  \n",
       "4                0  \n",
       "...            ...  \n",
       "4458             0  \n",
       "4459             0  \n",
       "4460             0  \n",
       "4461             0  \n",
       "4462             0  \n",
       "\n",
       "[4463 rows x 7 columns]"
      ]
     },
     "execution_count": 8,
     "metadata": {},
     "output_type": "execute_result"
    }
   ],
   "source": [
    "#selecting numerical value\n",
    "df_num=df.select_dtypes(['float64','int64'])\n",
    "df_num #seprating numerical types of data"
   ]
  },
  {
   "cell_type": "code",
   "execution_count": 9,
   "id": "76b3b7e4",
   "metadata": {},
   "outputs": [],
   "source": [
    "#using label Encoder"
   ]
  },
  {
   "cell_type": "code",
   "execution_count": 10,
   "id": "9c86d9e5",
   "metadata": {},
   "outputs": [],
   "source": [
    "from sklearn.preprocessing import LabelEncoder\n",
    "lr=LabelEncoder()"
   ]
  },
  {
   "cell_type": "code",
   "execution_count": 11,
   "id": "0145f25d",
   "metadata": {},
   "outputs": [],
   "source": [
    "df_obj.columns\n",
    "for i in df_obj:\n",
    "    df_obj[i]=lr.fit_transform(df_obj[i])"
   ]
  },
  {
   "cell_type": "code",
   "execution_count": 12,
   "id": "abd9a70e",
   "metadata": {},
   "outputs": [
    {
     "data": {
      "text/html": [
       "<div>\n",
       "<style scoped>\n",
       "    .dataframe tbody tr th:only-of-type {\n",
       "        vertical-align: middle;\n",
       "    }\n",
       "\n",
       "    .dataframe tbody tr th {\n",
       "        vertical-align: top;\n",
       "    }\n",
       "\n",
       "    .dataframe thead th {\n",
       "        text-align: right;\n",
       "    }\n",
       "</style>\n",
       "<table border=\"1\" class=\"dataframe\">\n",
       "  <thead>\n",
       "    <tr style=\"text-align: right;\">\n",
       "      <th></th>\n",
       "      <th>Date</th>\n",
       "    </tr>\n",
       "  </thead>\n",
       "  <tbody>\n",
       "    <tr>\n",
       "      <th>0</th>\n",
       "      <td>1688</td>\n",
       "    </tr>\n",
       "    <tr>\n",
       "      <th>1</th>\n",
       "      <td>1836</td>\n",
       "    </tr>\n",
       "    <tr>\n",
       "      <th>2</th>\n",
       "      <td>1975</td>\n",
       "    </tr>\n",
       "    <tr>\n",
       "      <th>3</th>\n",
       "      <td>2126</td>\n",
       "    </tr>\n",
       "    <tr>\n",
       "      <th>4</th>\n",
       "      <td>2263</td>\n",
       "    </tr>\n",
       "    <tr>\n",
       "      <th>...</th>\n",
       "      <td>...</td>\n",
       "    </tr>\n",
       "    <tr>\n",
       "      <th>4458</th>\n",
       "      <td>3488</td>\n",
       "    </tr>\n",
       "    <tr>\n",
       "      <th>4459</th>\n",
       "      <td>3913</td>\n",
       "    </tr>\n",
       "    <tr>\n",
       "      <th>4460</th>\n",
       "      <td>4066</td>\n",
       "    </tr>\n",
       "    <tr>\n",
       "      <th>4461</th>\n",
       "      <td>4199</td>\n",
       "    </tr>\n",
       "    <tr>\n",
       "      <th>4462</th>\n",
       "      <td>4338</td>\n",
       "    </tr>\n",
       "  </tbody>\n",
       "</table>\n",
       "<p>4463 rows × 1 columns</p>\n",
       "</div>"
      ],
      "text/plain": [
       "      Date\n",
       "0     1688\n",
       "1     1836\n",
       "2     1975\n",
       "3     2126\n",
       "4     2263\n",
       "...    ...\n",
       "4458  3488\n",
       "4459  3913\n",
       "4460  4066\n",
       "4461  4199\n",
       "4462  4338\n",
       "\n",
       "[4463 rows x 1 columns]"
      ]
     },
     "execution_count": 12,
     "metadata": {},
     "output_type": "execute_result"
    }
   ],
   "source": [
    "df_obj"
   ]
  },
  {
   "cell_type": "code",
   "execution_count": 13,
   "id": "8fd2e54f",
   "metadata": {},
   "outputs": [
    {
     "data": {
      "text/html": [
       "<div>\n",
       "<style scoped>\n",
       "    .dataframe tbody tr th:only-of-type {\n",
       "        vertical-align: middle;\n",
       "    }\n",
       "\n",
       "    .dataframe tbody tr th {\n",
       "        vertical-align: top;\n",
       "    }\n",
       "\n",
       "    .dataframe thead th {\n",
       "        text-align: right;\n",
       "    }\n",
       "</style>\n",
       "<table border=\"1\" class=\"dataframe\">\n",
       "  <thead>\n",
       "    <tr style=\"text-align: right;\">\n",
       "      <th></th>\n",
       "      <th>Date</th>\n",
       "      <th>Open</th>\n",
       "      <th>High</th>\n",
       "      <th>Low</th>\n",
       "      <th>Close</th>\n",
       "      <th>Volume</th>\n",
       "      <th>Dividends</th>\n",
       "      <th>Stock Splits</th>\n",
       "    </tr>\n",
       "  </thead>\n",
       "  <tbody>\n",
       "    <tr>\n",
       "      <th>0</th>\n",
       "      <td>1688</td>\n",
       "      <td>28.794172</td>\n",
       "      <td>29.742206</td>\n",
       "      <td>28.794172</td>\n",
       "      <td>29.519140</td>\n",
       "      <td>212976</td>\n",
       "      <td>0.0</td>\n",
       "      <td>0</td>\n",
       "    </tr>\n",
       "    <tr>\n",
       "      <th>1</th>\n",
       "      <td>1836</td>\n",
       "      <td>29.556316</td>\n",
       "      <td>30.030333</td>\n",
       "      <td>28.905705</td>\n",
       "      <td>29.119476</td>\n",
       "      <td>153576</td>\n",
       "      <td>0.0</td>\n",
       "      <td>0</td>\n",
       "    </tr>\n",
       "    <tr>\n",
       "      <th>2</th>\n",
       "      <td>1975</td>\n",
       "      <td>29.184536</td>\n",
       "      <td>29.184536</td>\n",
       "      <td>26.563503</td>\n",
       "      <td>27.111877</td>\n",
       "      <td>822776</td>\n",
       "      <td>0.0</td>\n",
       "      <td>0</td>\n",
       "    </tr>\n",
       "    <tr>\n",
       "      <th>3</th>\n",
       "      <td>2126</td>\n",
       "      <td>27.111877</td>\n",
       "      <td>27.111877</td>\n",
       "      <td>27.111877</td>\n",
       "      <td>27.111877</td>\n",
       "      <td>0</td>\n",
       "      <td>0.0</td>\n",
       "      <td>0</td>\n",
       "    </tr>\n",
       "    <tr>\n",
       "      <th>4</th>\n",
       "      <td>2263</td>\n",
       "      <td>26.972458</td>\n",
       "      <td>28.255089</td>\n",
       "      <td>26.582090</td>\n",
       "      <td>27.046812</td>\n",
       "      <td>811856</td>\n",
       "      <td>0.0</td>\n",
       "      <td>0</td>\n",
       "    </tr>\n",
       "    <tr>\n",
       "      <th>...</th>\n",
       "      <td>...</td>\n",
       "      <td>...</td>\n",
       "      <td>...</td>\n",
       "      <td>...</td>\n",
       "      <td>...</td>\n",
       "      <td>...</td>\n",
       "      <td>...</td>\n",
       "      <td>...</td>\n",
       "    </tr>\n",
       "    <tr>\n",
       "      <th>4458</th>\n",
       "      <td>3488</td>\n",
       "      <td>3890.000000</td>\n",
       "      <td>3944.399902</td>\n",
       "      <td>3855.000000</td>\n",
       "      <td>3871.300049</td>\n",
       "      <td>2320754</td>\n",
       "      <td>0.0</td>\n",
       "      <td>0</td>\n",
       "    </tr>\n",
       "    <tr>\n",
       "      <th>4459</th>\n",
       "      <td>3913</td>\n",
       "      <td>3900.000000</td>\n",
       "      <td>3904.000000</td>\n",
       "      <td>3802.899902</td>\n",
       "      <td>3836.949951</td>\n",
       "      <td>1673362</td>\n",
       "      <td>0.0</td>\n",
       "      <td>0</td>\n",
       "    </tr>\n",
       "    <tr>\n",
       "      <th>4460</th>\n",
       "      <td>4066</td>\n",
       "      <td>3850.000000</td>\n",
       "      <td>3850.000000</td>\n",
       "      <td>3751.250000</td>\n",
       "      <td>3779.149902</td>\n",
       "      <td>2253075</td>\n",
       "      <td>0.0</td>\n",
       "      <td>0</td>\n",
       "    </tr>\n",
       "    <tr>\n",
       "      <th>4461</th>\n",
       "      <td>4199</td>\n",
       "      <td>3759.800049</td>\n",
       "      <td>3806.000000</td>\n",
       "      <td>3722.149902</td>\n",
       "      <td>3791.899902</td>\n",
       "      <td>2489161</td>\n",
       "      <td>0.0</td>\n",
       "      <td>0</td>\n",
       "    </tr>\n",
       "    <tr>\n",
       "      <th>4462</th>\n",
       "      <td>4338</td>\n",
       "      <td>3805.000000</td>\n",
       "      <td>3805.000000</td>\n",
       "      <td>3765.000000</td>\n",
       "      <td>3773.199951</td>\n",
       "      <td>640479</td>\n",
       "      <td>0.0</td>\n",
       "      <td>0</td>\n",
       "    </tr>\n",
       "  </tbody>\n",
       "</table>\n",
       "<p>4463 rows × 8 columns</p>\n",
       "</div>"
      ],
      "text/plain": [
       "      Date         Open         High          Low        Close   Volume  \\\n",
       "0     1688    28.794172    29.742206    28.794172    29.519140   212976   \n",
       "1     1836    29.556316    30.030333    28.905705    29.119476   153576   \n",
       "2     1975    29.184536    29.184536    26.563503    27.111877   822776   \n",
       "3     2126    27.111877    27.111877    27.111877    27.111877        0   \n",
       "4     2263    26.972458    28.255089    26.582090    27.046812   811856   \n",
       "...    ...          ...          ...          ...          ...      ...   \n",
       "4458  3488  3890.000000  3944.399902  3855.000000  3871.300049  2320754   \n",
       "4459  3913  3900.000000  3904.000000  3802.899902  3836.949951  1673362   \n",
       "4460  4066  3850.000000  3850.000000  3751.250000  3779.149902  2253075   \n",
       "4461  4199  3759.800049  3806.000000  3722.149902  3791.899902  2489161   \n",
       "4462  4338  3805.000000  3805.000000  3765.000000  3773.199951   640479   \n",
       "\n",
       "      Dividends  Stock Splits  \n",
       "0           0.0             0  \n",
       "1           0.0             0  \n",
       "2           0.0             0  \n",
       "3           0.0             0  \n",
       "4           0.0             0  \n",
       "...         ...           ...  \n",
       "4458        0.0             0  \n",
       "4459        0.0             0  \n",
       "4460        0.0             0  \n",
       "4461        0.0             0  \n",
       "4462        0.0             0  \n",
       "\n",
       "[4463 rows x 8 columns]"
      ]
     },
     "execution_count": 13,
     "metadata": {},
     "output_type": "execute_result"
    }
   ],
   "source": [
    "df_sum=pd.concat([df_obj,df_num],axis=1)\n",
    "df_sum #concat ing both "
   ]
  },
  {
   "cell_type": "code",
   "execution_count": 14,
   "id": "0b916269",
   "metadata": {},
   "outputs": [],
   "source": [
    "X=df_sum.drop('Close',axis=1) #input\n",
    "Y=df_sum['Close'] #ouput "
   ]
  },
  {
   "cell_type": "code",
   "execution_count": 15,
   "id": "9ea29e73",
   "metadata": {},
   "outputs": [],
   "source": [
    "from sklearn.model_selection import train_test_split #spliting into training data and testing data\n"
   ]
  },
  {
   "cell_type": "code",
   "execution_count": 16,
   "id": "e689f4f9",
   "metadata": {},
   "outputs": [],
   "source": [
    "X_train,X_test,Y_train,Y_test=train_test_split(X,Y,test_size=0.3,random_state=1)"
   ]
  },
  {
   "cell_type": "code",
   "execution_count": 17,
   "id": "d5ffdd5a",
   "metadata": {},
   "outputs": [
    {
     "data": {
      "text/plain": [
       "(3124, 7)"
      ]
     },
     "execution_count": 17,
     "metadata": {},
     "output_type": "execute_result"
    }
   ],
   "source": [
    "X_train.shape"
   ]
  },
  {
   "cell_type": "code",
   "execution_count": 18,
   "id": "a50a48b0",
   "metadata": {},
   "outputs": [
    {
     "data": {
      "text/plain": [
       "(1339, 7)"
      ]
     },
     "execution_count": 18,
     "metadata": {},
     "output_type": "execute_result"
    }
   ],
   "source": [
    "X_test.shape"
   ]
  },
  {
   "cell_type": "code",
   "execution_count": 19,
   "id": "2668dc84",
   "metadata": {},
   "outputs": [
    {
     "data": {
      "text/plain": [
       "(3124,)"
      ]
     },
     "execution_count": 19,
     "metadata": {},
     "output_type": "execute_result"
    }
   ],
   "source": [
    "Y_train.shape"
   ]
  },
  {
   "cell_type": "code",
   "execution_count": 20,
   "id": "11a6b314",
   "metadata": {},
   "outputs": [
    {
     "data": {
      "text/plain": [
       "(1339,)"
      ]
     },
     "execution_count": 20,
     "metadata": {},
     "output_type": "execute_result"
    }
   ],
   "source": [
    "Y_test.shape"
   ]
  },
  {
   "cell_type": "code",
   "execution_count": 21,
   "id": "42cbc55d",
   "metadata": {},
   "outputs": [],
   "source": [
    "from sklearn.preprocessing import StandardScaler\n"
   ]
  },
  {
   "cell_type": "code",
   "execution_count": 22,
   "id": "7cc37b25",
   "metadata": {},
   "outputs": [],
   "source": [
    "#lets give the data to the matchine by overfitting it into same unit\n",
    "#we use scaling for xtrain and xtest\n",
    "#scaling we us on input type of data\n",
    "#it will convert the data into numpy .arraay\n",
    "#create an object for the standardScalar\n",
    "ss=StandardScaler()\n",
    "#applying scaling on X_train we use fit_transform()\n",
    "X_train=ss.fit_transform(X_train)  # fit--- train \n",
    "#applying scaling on X_test we use transform()\n",
    "X_test=ss.transform(X_test)"
   ]
  },
  {
   "cell_type": "code",
   "execution_count": 23,
   "id": "66281f01",
   "metadata": {},
   "outputs": [
    {
     "data": {
      "text/plain": [
       "array([[-0.36478979, -0.42464517, -0.42385264, ..., -0.34014084,\n",
       "        -0.07230228, -0.02531037],\n",
       "       [ 1.42031994, -0.47703806, -0.48135002, ...,  0.17187511,\n",
       "         1.35088896, -0.02531037],\n",
       "       [-0.83988444,  1.33716054,  1.33390043, ..., -0.49248117,\n",
       "        -0.07230228, -0.02531037],\n",
       "       ...,\n",
       "       [ 0.12120867, -0.74781252, -0.74512036, ...,  2.20325906,\n",
       "        -0.07230228, -0.02531037],\n",
       "       [ 0.76920662,  1.39387328,  1.40466072, ...,  0.63696563,\n",
       "        -0.07230228, -0.02531037],\n",
       "       [-0.63816392, -0.95233713, -0.95409154, ..., -1.11724951,\n",
       "        -0.07230228, -0.02531037]])"
      ]
     },
     "execution_count": 23,
     "metadata": {},
     "output_type": "execute_result"
    }
   ],
   "source": [
    "X_train"
   ]
  },
  {
   "cell_type": "code",
   "execution_count": 24,
   "id": "36b8a9f0",
   "metadata": {},
   "outputs": [
    {
     "data": {
      "text/plain": [
       "array([[-0.76823082, -0.68006545, -0.68159196, ...,  0.41852605,\n",
       "        -0.07230228, -0.02531037],\n",
       "       [-0.04079082, -0.48290416, -0.48271469, ..., -0.6651897 ,\n",
       "        -0.07230228, -0.02531037],\n",
       "       [-0.44968375,  0.06275475,  0.06922927, ..., -0.60100381,\n",
       "        -0.07230228, -0.02531037],\n",
       "       ...,\n",
       "       [-0.82586525, -0.70612899, -0.71004322, ...,  0.21407626,\n",
       "        -0.07230228, -0.02531037],\n",
       "       [-0.57118336,  2.80309082,  2.7681125 , ..., -0.76166971,\n",
       "        -0.07230228, -0.02531037],\n",
       "       [-1.27759459, -0.92455252, -0.92181716, ...,  0.40652998,\n",
       "        -0.07230228, -0.02531037]])"
      ]
     },
     "execution_count": 24,
     "metadata": {},
     "output_type": "execute_result"
    }
   ],
   "source": [
    "X_test"
   ]
  },
  {
   "cell_type": "code",
   "execution_count": 25,
   "id": "4e9fd216",
   "metadata": {},
   "outputs": [],
   "source": [
    "#performing the model with linear Regression \n",
    "#we have to import Linear Regression from Linear_Model\n",
    "from sklearn.linear_model import LinearRegression\n",
    "#create an object for linearRegression\n",
    "#lets train the model with 70% of data\n",
    "\n",
    "#we use .fit() method of linearRegression class\n",
    "lr=LinearRegression()"
   ]
  },
  {
   "cell_type": "code",
   "execution_count": 26,
   "id": "662f4f78",
   "metadata": {},
   "outputs": [
    {
     "data": {
      "text/html": [
       "<style>#sk-container-id-1 {color: black;background-color: white;}#sk-container-id-1 pre{padding: 0;}#sk-container-id-1 div.sk-toggleable {background-color: white;}#sk-container-id-1 label.sk-toggleable__label {cursor: pointer;display: block;width: 100%;margin-bottom: 0;padding: 0.3em;box-sizing: border-box;text-align: center;}#sk-container-id-1 label.sk-toggleable__label-arrow:before {content: \"▸\";float: left;margin-right: 0.25em;color: #696969;}#sk-container-id-1 label.sk-toggleable__label-arrow:hover:before {color: black;}#sk-container-id-1 div.sk-estimator:hover label.sk-toggleable__label-arrow:before {color: black;}#sk-container-id-1 div.sk-toggleable__content {max-height: 0;max-width: 0;overflow: hidden;text-align: left;background-color: #f0f8ff;}#sk-container-id-1 div.sk-toggleable__content pre {margin: 0.2em;color: black;border-radius: 0.25em;background-color: #f0f8ff;}#sk-container-id-1 input.sk-toggleable__control:checked~div.sk-toggleable__content {max-height: 200px;max-width: 100%;overflow: auto;}#sk-container-id-1 input.sk-toggleable__control:checked~label.sk-toggleable__label-arrow:before {content: \"▾\";}#sk-container-id-1 div.sk-estimator input.sk-toggleable__control:checked~label.sk-toggleable__label {background-color: #d4ebff;}#sk-container-id-1 div.sk-label input.sk-toggleable__control:checked~label.sk-toggleable__label {background-color: #d4ebff;}#sk-container-id-1 input.sk-hidden--visually {border: 0;clip: rect(1px 1px 1px 1px);clip: rect(1px, 1px, 1px, 1px);height: 1px;margin: -1px;overflow: hidden;padding: 0;position: absolute;width: 1px;}#sk-container-id-1 div.sk-estimator {font-family: monospace;background-color: #f0f8ff;border: 1px dotted black;border-radius: 0.25em;box-sizing: border-box;margin-bottom: 0.5em;}#sk-container-id-1 div.sk-estimator:hover {background-color: #d4ebff;}#sk-container-id-1 div.sk-parallel-item::after {content: \"\";width: 100%;border-bottom: 1px solid gray;flex-grow: 1;}#sk-container-id-1 div.sk-label:hover label.sk-toggleable__label {background-color: #d4ebff;}#sk-container-id-1 div.sk-serial::before {content: \"\";position: absolute;border-left: 1px solid gray;box-sizing: border-box;top: 0;bottom: 0;left: 50%;z-index: 0;}#sk-container-id-1 div.sk-serial {display: flex;flex-direction: column;align-items: center;background-color: white;padding-right: 0.2em;padding-left: 0.2em;position: relative;}#sk-container-id-1 div.sk-item {position: relative;z-index: 1;}#sk-container-id-1 div.sk-parallel {display: flex;align-items: stretch;justify-content: center;background-color: white;position: relative;}#sk-container-id-1 div.sk-item::before, #sk-container-id-1 div.sk-parallel-item::before {content: \"\";position: absolute;border-left: 1px solid gray;box-sizing: border-box;top: 0;bottom: 0;left: 50%;z-index: -1;}#sk-container-id-1 div.sk-parallel-item {display: flex;flex-direction: column;z-index: 1;position: relative;background-color: white;}#sk-container-id-1 div.sk-parallel-item:first-child::after {align-self: flex-end;width: 50%;}#sk-container-id-1 div.sk-parallel-item:last-child::after {align-self: flex-start;width: 50%;}#sk-container-id-1 div.sk-parallel-item:only-child::after {width: 0;}#sk-container-id-1 div.sk-dashed-wrapped {border: 1px dashed gray;margin: 0 0.4em 0.5em 0.4em;box-sizing: border-box;padding-bottom: 0.4em;background-color: white;}#sk-container-id-1 div.sk-label label {font-family: monospace;font-weight: bold;display: inline-block;line-height: 1.2em;}#sk-container-id-1 div.sk-label-container {text-align: center;}#sk-container-id-1 div.sk-container {/* jupyter's `normalize.less` sets `[hidden] { display: none; }` but bootstrap.min.css set `[hidden] { display: none !important; }` so we also need the `!important` here to be able to override the default hidden behavior on the sphinx rendered scikit-learn.org. See: https://github.com/scikit-learn/scikit-learn/issues/21755 */display: inline-block !important;position: relative;}#sk-container-id-1 div.sk-text-repr-fallback {display: none;}</style><div id=\"sk-container-id-1\" class=\"sk-top-container\"><div class=\"sk-text-repr-fallback\"><pre>LinearRegression()</pre><b>In a Jupyter environment, please rerun this cell to show the HTML representation or trust the notebook. <br />On GitHub, the HTML representation is unable to render, please try loading this page with nbviewer.org.</b></div><div class=\"sk-container\" hidden><div class=\"sk-item\"><div class=\"sk-estimator sk-toggleable\"><input class=\"sk-toggleable__control sk-hidden--visually\" id=\"sk-estimator-id-1\" type=\"checkbox\" checked><label for=\"sk-estimator-id-1\" class=\"sk-toggleable__label sk-toggleable__label-arrow\">LinearRegression</label><div class=\"sk-toggleable__content\"><pre>LinearRegression()</pre></div></div></div></div></div>"
      ],
      "text/plain": [
       "LinearRegression()"
      ]
     },
     "execution_count": 26,
     "metadata": {},
     "output_type": "execute_result"
    }
   ],
   "source": [
    "\n",
    "lr.fit(X_train,Y_train)"
   ]
  },
  {
   "cell_type": "code",
   "execution_count": 27,
   "id": "f12331a5",
   "metadata": {},
   "outputs": [
    {
     "data": {
      "text/plain": [
       "array([ 1.28672991e-02, -4.00131886e+02,  6.72683501e+02,  5.57354279e+02,\n",
       "       -2.64342603e-01,  7.32814576e-02, -4.11323755e-02])"
      ]
     },
     "execution_count": 27,
     "metadata": {},
     "output_type": "execute_result"
    }
   ],
   "source": [
    "lr.coef_ #lets check for slope/gradient "
   ]
  },
  {
   "cell_type": "code",
   "execution_count": 28,
   "id": "62aa1ee3",
   "metadata": {},
   "outputs": [
    {
     "data": {
      "text/plain": [
       "865.1946596865046"
      ]
     },
     "execution_count": 28,
     "metadata": {},
     "output_type": "execute_result"
    }
   ],
   "source": [
    "lr.intercept_ #lets check for intercept/Constant"
   ]
  },
  {
   "cell_type": "code",
   "execution_count": 29,
   "id": "082f7158",
   "metadata": {},
   "outputs": [],
   "source": [
    "#slope:- Changes in Y divided by changes in X (y2-y1 /  x2-x1)\n",
    "\n",
    "#intercept :- The Best fit line touching a point on y-axis is called an intercept"
   ]
  },
  {
   "cell_type": "code",
   "execution_count": 30,
   "id": "b8a9766b",
   "metadata": {},
   "outputs": [],
   "source": [
    "#lets test the data model with 30% of data\n",
    "#we will use the inbuilt method : Predict() of LinearRegression\n",
    "#predict y=mx+c\n",
    "#predicted output\n",
    "y_pred=lr.predict(X_test)"
   ]
  },
  {
   "cell_type": "code",
   "execution_count": 31,
   "id": "38190d7f",
   "metadata": {},
   "outputs": [
    {
     "data": {
      "text/plain": [
       "array([ 297.1013548 ,  467.60806866,  929.22840121, ...,  276.87293669,\n",
       "       3171.26545183,  100.82684278])"
      ]
     },
     "execution_count": 31,
     "metadata": {},
     "output_type": "execute_result"
    }
   ],
   "source": [
    "y_pred"
   ]
  },
  {
   "cell_type": "code",
   "execution_count": 32,
   "id": "9e68780e",
   "metadata": {},
   "outputs": [
    {
     "data": {
      "text/html": [
       "<div>\n",
       "<style scoped>\n",
       "    .dataframe tbody tr th:only-of-type {\n",
       "        vertical-align: middle;\n",
       "    }\n",
       "\n",
       "    .dataframe tbody tr th {\n",
       "        vertical-align: top;\n",
       "    }\n",
       "\n",
       "    .dataframe thead th {\n",
       "        text-align: right;\n",
       "    }\n",
       "</style>\n",
       "<table border=\"1\" class=\"dataframe\">\n",
       "  <thead>\n",
       "    <tr style=\"text-align: right;\">\n",
       "      <th></th>\n",
       "      <th>Actual op</th>\n",
       "      <th>predict op</th>\n",
       "    </tr>\n",
       "  </thead>\n",
       "  <tbody>\n",
       "    <tr>\n",
       "      <th>1673</th>\n",
       "      <td>293.668335</td>\n",
       "      <td>297.101355</td>\n",
       "    </tr>\n",
       "    <tr>\n",
       "      <th>2030</th>\n",
       "      <td>464.641052</td>\n",
       "      <td>467.608069</td>\n",
       "    </tr>\n",
       "    <tr>\n",
       "      <th>2605</th>\n",
       "      <td>929.098389</td>\n",
       "      <td>929.228401</td>\n",
       "    </tr>\n",
       "    <tr>\n",
       "      <th>2742</th>\n",
       "      <td>1213.214966</td>\n",
       "      <td>1214.359228</td>\n",
       "    </tr>\n",
       "    <tr>\n",
       "      <th>1884</th>\n",
       "      <td>488.232086</td>\n",
       "      <td>490.252391</td>\n",
       "    </tr>\n",
       "    <tr>\n",
       "      <th>...</th>\n",
       "      <td>...</td>\n",
       "      <td>...</td>\n",
       "    </tr>\n",
       "    <tr>\n",
       "      <th>3745</th>\n",
       "      <td>1824.891602</td>\n",
       "      <td>1803.977310</td>\n",
       "    </tr>\n",
       "    <tr>\n",
       "      <th>1074</th>\n",
       "      <td>194.601593</td>\n",
       "      <td>197.077617</td>\n",
       "    </tr>\n",
       "    <tr>\n",
       "      <th>1556</th>\n",
       "      <td>279.007111</td>\n",
       "      <td>276.872937</td>\n",
       "    </tr>\n",
       "    <tr>\n",
       "      <th>4306</th>\n",
       "      <td>3183.446533</td>\n",
       "      <td>3171.265452</td>\n",
       "    </tr>\n",
       "    <tr>\n",
       "      <th>1330</th>\n",
       "      <td>100.923714</td>\n",
       "      <td>100.826843</td>\n",
       "    </tr>\n",
       "  </tbody>\n",
       "</table>\n",
       "<p>1339 rows × 2 columns</p>\n",
       "</div>"
      ],
      "text/plain": [
       "        Actual op   predict op\n",
       "1673   293.668335   297.101355\n",
       "2030   464.641052   467.608069\n",
       "2605   929.098389   929.228401\n",
       "2742  1213.214966  1214.359228\n",
       "1884   488.232086   490.252391\n",
       "...           ...          ...\n",
       "3745  1824.891602  1803.977310\n",
       "1074   194.601593   197.077617\n",
       "1556   279.007111   276.872937\n",
       "4306  3183.446533  3171.265452\n",
       "1330   100.923714   100.826843\n",
       "\n",
       "[1339 rows x 2 columns]"
      ]
     },
     "execution_count": 32,
     "metadata": {},
     "output_type": "execute_result"
    }
   ],
   "source": [
    "dict={\"Actual op\":Y_test,\"predict op\":y_pred} #lets create  a dictionary for understanding\n",
    "df11=pd.DataFrame(dict) #predict best fit line\n",
    "df11"
   ]
  },
  {
   "cell_type": "code",
   "execution_count": 33,
   "id": "418602bc",
   "metadata": {},
   "outputs": [
    {
     "name": "stdout",
     "output_type": "stream",
     "text": [
      "mean sqaured error  41.68541565876829\n"
     ]
    }
   ],
   "source": [
    "from sklearn.metrics import mean_squared_error\n",
    "#mse #mean square error aslo called as  #loss function #cost function # To check the error \n",
    "mse=mean_squared_error(Y_test,y_pred)\n",
    "print(\"mean sqaured error \",mse)"
   ]
  },
  {
   "cell_type": "code",
   "execution_count": 34,
   "id": "dd7c1486",
   "metadata": {},
   "outputs": [
    {
     "data": {
      "text/plain": [
       "6.456424371025211"
      ]
     },
     "execution_count": 34,
     "metadata": {},
     "output_type": "execute_result"
    }
   ],
   "source": [
    "#check for root of mean square  :--- error minmize error\n",
    "rmse=np.sqrt(mse)\n",
    "rmse"
   ]
  },
  {
   "cell_type": "code",
   "execution_count": 35,
   "id": "3a972d33",
   "metadata": {},
   "outputs": [],
   "source": [
    "#RSS :- Residual sum of Squared(EACH AND EVERY POINT) formula(ytest-ypred)  mse=RSS/N N=no of datapoints\n",
    "#R2_score =TSS-RSS/TSS   TSS(TOTAL SUM OF SQUARED) ON OUTPUT COLUMN  (OUTPUT OF MEAN) POINTS LAYING ON Y AXIS , MEAN OF Y\n",
    "# Hortional line parrellel to your input\n",
    "\n",
    "# R2_score=(TSS-RSS)/TSS\n",
    "# y_mean:- IT will create a parallel line an according to mean with respect to your  input\n",
    "# TSS is always greater then RSS TSS>RSS\n",
    "# Assurity: 0.9 and above, but if is not 0.9 and greater then it might underfit or overfit \n",
    "# Range of R2_score :0 to 1 +1 \n",
    "# thresshold value =0.5  greater than 0.5 model is good . \n",
    "# LEsser than 0.5 not good\n",
    "\n",
    "# eg TSS=80 ,RSs=60\n",
    "# Rscore=(80-60)/80\n",
    "#       =20/80\n",
    "# Rscore=0.25 =25%\n"
   ]
  },
  {
   "cell_type": "code",
   "execution_count": 36,
   "id": "03523fba",
   "metadata": {},
   "outputs": [],
   "source": [
    "#checking for the score of model  : r2_score   0 to +1\n",
    "#use inbuilt function r2_score which is defined in r2_score"
   ]
  },
  {
   "cell_type": "code",
   "execution_count": 37,
   "id": "029b2dec",
   "metadata": {},
   "outputs": [
    {
     "name": "stdout",
     "output_type": "stream",
     "text": [
      "r2score is  0.9999392558656871\n"
     ]
    }
   ],
   "source": [
    "from sklearn.metrics import r2_score\n",
    "print(\"r2score is \",r2_score(Y_test,y_pred))"
   ]
  },
  {
   "cell_type": "code",
   "execution_count": 38,
   "id": "9d172f5e",
   "metadata": {},
   "outputs": [],
   "source": [
    "#asummption \n",
    "# 1] Input and output are in linear Regression (upward or downward)\n",
    "# 2] If relation is linear then data point should be homoskedastik(closed datapoints), \n",
    "#      but it should not be hetroskedastik(far datapoints)\n",
    "# 3]  but it should not be multicolinearity (input input not relation)\n",
    "# 4] it should make normal distributed curve on both the sides,skewness:(to find the closeness):it should be close to zero or zero\n"
   ]
  },
  {
   "cell_type": "code",
   "execution_count": 39,
   "id": "6ae6bf0a",
   "metadata": {},
   "outputs": [],
   "source": [
    "#score is 92% it excellent but....\n",
    "#checking for assumption 1: There should be linear Relation between input and output   5  12  12-5 =7 traingle\n",
    "residual_error=Y_test-y_pred"
   ]
  },
  {
   "cell_type": "code",
   "execution_count": null,
   "id": "f0ea8dc1",
   "metadata": {},
   "outputs": [],
   "source": []
  },
  {
   "cell_type": "code",
   "execution_count": 40,
   "id": "842596d9",
   "metadata": {},
   "outputs": [
    {
     "data": {
      "text/plain": [
       "1673    -3.433020\n",
       "2030    -2.967016\n",
       "2605    -0.130013\n",
       "2742    -1.144262\n",
       "1884    -2.020304\n",
       "          ...    \n",
       "3745    20.914292\n",
       "1074    -2.476024\n",
       "1556     2.134174\n",
       "4306    12.181081\n",
       "1330     0.096871\n",
       "Name: Close, Length: 1339, dtype: float64"
      ]
     },
     "execution_count": 40,
     "metadata": {},
     "output_type": "execute_result"
    }
   ],
   "source": [
    "residual_error"
   ]
  },
  {
   "cell_type": "code",
   "execution_count": 41,
   "id": "f80d60e6",
   "metadata": {},
   "outputs": [
    {
     "data": {
      "image/png": "[encoded data removed]",
      "text/plain": [
       "<Figure size 640x480 with 1 Axes>"
      ]
     },
     "metadata": {},
     "output_type": "display_data"
    }
   ],
   "source": [
    "#visualising the data points into scatterplot betweeen input y_pred and output output residual error\n",
    "plt.scatter(y_pred,residual_error)\n",
    "plt.xlabel('predicted')\n",
    "plt.ylabel(\"residual_error\")\n",
    "plt.show()\n",
    "\n",
    "#IN the above plot there is not relation between :input and output\n",
    "#there is no relation between input and output(close) means it is non-linear \n",
    "#first assumption is not fulfullid or first assumption is failed \n",
    "#2nd assumption :It realtion is linear ,Then we have to check for wether the data points are homeskedastik \n",
    "#but it hould not be heterostkedastik\n",
    "#If we fail to fulfilled first assumption then the second assumption will automatically fail  beacause there is no relation \n",
    "# between input and output \n"
   ]
  },
  {
   "cell_type": "code",
   "execution_count": 42,
   "id": "1b9dec77",
   "metadata": {},
   "outputs": [
    {
     "data": {
      "text/plain": [
       "<Axes: >"
      ]
     },
     "execution_count": 42,
     "metadata": {},
     "output_type": "execute_result"
    },
    {
     "data": {
      "image/png": "[encoded data removed]",
      "text/plain": [
       "<Figure size 640x480 with 2 Axes>"
      ]
     },
     "metadata": {},
     "output_type": "display_data"
    }
   ],
   "source": [
    "sb.heatmap(df_sum.corr(),annot=True) #multicolinearity all the data points are important"
   ]
  },
  {
   "cell_type": "code",
   "execution_count": 43,
   "id": "9649bffc",
   "metadata": {},
   "outputs": [
    {
     "data": {
      "text/plain": [
       "<Axes: xlabel='Close', ylabel='Count'>"
      ]
     },
     "execution_count": 43,
     "metadata": {},
     "output_type": "execute_result"
    },
    {
     "data": {
      "image/png": "[encoded data removed]",
      "text/plain": [
       "<Figure size 640x480 with 1 Axes>"
      ]
     },
     "metadata": {},
     "output_type": "display_data"
    }
   ],
   "source": [
    "sb.histplot(residual_error)"
   ]
  },
  {
   "cell_type": "code",
   "execution_count": 44,
   "id": "11cc1ac8",
   "metadata": {},
   "outputs": [
    {
     "data": {
      "text/plain": [
       "<Axes: xlabel='Close', ylabel='Density'>"
      ]
     },
     "execution_count": 44,
     "metadata": {},
     "output_type": "execute_result"
    },
    {
     "data": {
      "image/png": "[encoded data removed]",
      "text/plain": [
       "<Figure size 640x480 with 1 Axes>"
      ]
     },
     "metadata": {},
     "output_type": "display_data"
    }
   ],
   "source": [
    "sb.distplot(residual_error)"
   ]
  },
  {
   "cell_type": "code",
   "execution_count": 45,
   "id": "04c0e9f3",
   "metadata": {},
   "outputs": [
    {
     "data": {
      "text/plain": [
       "<Axes: xlabel='Close', ylabel='Density'>"
      ]
     },
     "execution_count": 45,
     "metadata": {},
     "output_type": "execute_result"
    },
    {
     "data": {
      "image/png": "[encoded data removed]",
      "text/plain": [
       "<Figure size 640x480 with 1 Axes>"
      ]
     },
     "metadata": {},
     "output_type": "display_data"
    }
   ],
   "source": [
    "sb.distplot(residual_error,hist=False)"
   ]
  },
  {
   "cell_type": "code",
   "execution_count": 46,
   "id": "013b6790",
   "metadata": {},
   "outputs": [
    {
     "name": "stdout",
     "output_type": "stream",
     "text": [
      "-1.4252852387174322\n"
     ]
    }
   ],
   "source": [
    "print(residual_error.skew())"
   ]
  },
  {
   "cell_type": "code",
   "execution_count": 47,
   "id": "033544ea",
   "metadata": {},
   "outputs": [
    {
     "data": {
      "text/plain": [
       "0.9999145781024855"
      ]
     },
     "execution_count": 47,
     "metadata": {},
     "output_type": "execute_result"
    }
   ],
   "source": [
    "lr.score(X_train,Y_train)"
   ]
  },
  {
   "cell_type": "code",
   "execution_count": 48,
   "id": "f82d11a3",
   "metadata": {},
   "outputs": [
    {
     "data": {
      "text/plain": [
       "0.9999392558656871"
      ]
     },
     "execution_count": 48,
     "metadata": {},
     "output_type": "execute_result"
    }
   ],
   "source": [
    "lr.score(X_test,Y_test)"
   ]
  },
  {
   "cell_type": "code",
   "execution_count": 49,
   "id": "f8ed6bdb",
   "metadata": {},
   "outputs": [],
   "source": [
    "#hencing checking the assumption statistifies 1 out 4 assumption that polynomial regression has to be performd "
   ]
  },
  {
   "cell_type": "code",
   "execution_count": 50,
   "id": "9ef10566",
   "metadata": {},
   "outputs": [],
   "source": [
    "#This dataset is an polynomial linear Regression\n",
    "#we will increase the degree on input(X) X=2 it is quadratic equation X=df_sum.drop(['Close'],axis=1)  \n",
    "Y=df_sum['Close']"
   ]
  },
  {
   "cell_type": "code",
   "execution_count": 51,
   "id": "c5d7e1f7",
   "metadata": {},
   "outputs": [],
   "source": [
    "from sklearn.preprocessing import PolynomialFeatures #increasing the degree of input x, so call polynomial features"
   ]
  },
  {
   "cell_type": "code",
   "execution_count": 52,
   "id": "e900a3ca",
   "metadata": {},
   "outputs": [],
   "source": [
    "pf=PolynomialFeatures(2) #create an object  for Polynomial Features"
   ]
  },
  {
   "cell_type": "code",
   "execution_count": 53,
   "id": "c9cd0749",
   "metadata": {},
   "outputs": [],
   "source": [
    "X_poly=pf.fit_transform(X)"
   ]
  },
  {
   "cell_type": "code",
   "execution_count": 54,
   "id": "72f6740a",
   "metadata": {},
   "outputs": [],
   "source": [
    "X_train,X_test,Y_train,Y_test=train_test_split(X_poly,Y,test_size=0.3,random_state=1) #now we will train the dat with 70% and tses it will 30%"
   ]
  },
  {
   "cell_type": "code",
   "execution_count": 55,
   "id": "94b1e81d",
   "metadata": {},
   "outputs": [
    {
     "data": {
      "text/plain": [
       "(3124, 36)"
      ]
     },
     "execution_count": 55,
     "metadata": {},
     "output_type": "execute_result"
    }
   ],
   "source": [
    "X_train.shape"
   ]
  },
  {
   "cell_type": "code",
   "execution_count": 56,
   "id": "e776dc99",
   "metadata": {},
   "outputs": [
    {
     "data": {
      "text/plain": [
       "(1339, 36)"
      ]
     },
     "execution_count": 56,
     "metadata": {},
     "output_type": "execute_result"
    }
   ],
   "source": [
    "X_test.shape"
   ]
  },
  {
   "cell_type": "code",
   "execution_count": 57,
   "id": "2f8b62c0",
   "metadata": {},
   "outputs": [],
   "source": [
    "X_train=ss.fit_transform(X_train)#applying Scaling on X_train and X_test\n",
    "#it will  convert the data into\n",
    "X_test=ss.transform(X_test)"
   ]
  },
  {
   "cell_type": "code",
   "execution_count": 58,
   "id": "8b7c1a5f",
   "metadata": {},
   "outputs": [
    {
     "data": {
      "text/html": [
       "<style>#sk-container-id-2 {color: black;background-color: white;}#sk-container-id-2 pre{padding: 0;}#sk-container-id-2 div.sk-toggleable {background-color: white;}#sk-container-id-2 label.sk-toggleable__label {cursor: pointer;display: block;width: 100%;margin-bottom: 0;padding: 0.3em;box-sizing: border-box;text-align: center;}#sk-container-id-2 label.sk-toggleable__label-arrow:before {content: \"▸\";float: left;margin-right: 0.25em;color: #696969;}#sk-container-id-2 label.sk-toggleable__label-arrow:hover:before {color: black;}#sk-container-id-2 div.sk-estimator:hover label.sk-toggleable__label-arrow:before {color: black;}#sk-container-id-2 div.sk-toggleable__content {max-height: 0;max-width: 0;overflow: hidden;text-align: left;background-color: #f0f8ff;}#sk-container-id-2 div.sk-toggleable__content pre {margin: 0.2em;color: black;border-radius: 0.25em;background-color: #f0f8ff;}#sk-container-id-2 input.sk-toggleable__control:checked~div.sk-toggleable__content {max-height: 200px;max-width: 100%;overflow: auto;}#sk-container-id-2 input.sk-toggleable__control:checked~label.sk-toggleable__label-arrow:before {content: \"▾\";}#sk-container-id-2 div.sk-estimator input.sk-toggleable__control:checked~label.sk-toggleable__label {background-color: #d4ebff;}#sk-container-id-2 div.sk-label input.sk-toggleable__control:checked~label.sk-toggleable__label {background-color: #d4ebff;}#sk-container-id-2 input.sk-hidden--visually {border: 0;clip: rect(1px 1px 1px 1px);clip: rect(1px, 1px, 1px, 1px);height: 1px;margin: -1px;overflow: hidden;padding: 0;position: absolute;width: 1px;}#sk-container-id-2 div.sk-estimator {font-family: monospace;background-color: #f0f8ff;border: 1px dotted black;border-radius: 0.25em;box-sizing: border-box;margin-bottom: 0.5em;}#sk-container-id-2 div.sk-estimator:hover {background-color: #d4ebff;}#sk-container-id-2 div.sk-parallel-item::after {content: \"\";width: 100%;border-bottom: 1px solid gray;flex-grow: 1;}#sk-container-id-2 div.sk-label:hover label.sk-toggleable__label {background-color: #d4ebff;}#sk-container-id-2 div.sk-serial::before {content: \"\";position: absolute;border-left: 1px solid gray;box-sizing: border-box;top: 0;bottom: 0;left: 50%;z-index: 0;}#sk-container-id-2 div.sk-serial {display: flex;flex-direction: column;align-items: center;background-color: white;padding-right: 0.2em;padding-left: 0.2em;position: relative;}#sk-container-id-2 div.sk-item {position: relative;z-index: 1;}#sk-container-id-2 div.sk-parallel {display: flex;align-items: stretch;justify-content: center;background-color: white;position: relative;}#sk-container-id-2 div.sk-item::before, #sk-container-id-2 div.sk-parallel-item::before {content: \"\";position: absolute;border-left: 1px solid gray;box-sizing: border-box;top: 0;bottom: 0;left: 50%;z-index: -1;}#sk-container-id-2 div.sk-parallel-item {display: flex;flex-direction: column;z-index: 1;position: relative;background-color: white;}#sk-container-id-2 div.sk-parallel-item:first-child::after {align-self: flex-end;width: 50%;}#sk-container-id-2 div.sk-parallel-item:last-child::after {align-self: flex-start;width: 50%;}#sk-container-id-2 div.sk-parallel-item:only-child::after {width: 0;}#sk-container-id-2 div.sk-dashed-wrapped {border: 1px dashed gray;margin: 0 0.4em 0.5em 0.4em;box-sizing: border-box;padding-bottom: 0.4em;background-color: white;}#sk-container-id-2 div.sk-label label {font-family: monospace;font-weight: bold;display: inline-block;line-height: 1.2em;}#sk-container-id-2 div.sk-label-container {text-align: center;}#sk-container-id-2 div.sk-container {/* jupyter's `normalize.less` sets `[hidden] { display: none; }` but bootstrap.min.css set `[hidden] { display: none !important; }` so we also need the `!important` here to be able to override the default hidden behavior on the sphinx rendered scikit-learn.org. See: https://github.com/scikit-learn/scikit-learn/issues/21755 */display: inline-block !important;position: relative;}#sk-container-id-2 div.sk-text-repr-fallback {display: none;}</style><div id=\"sk-container-id-2\" class=\"sk-top-container\"><div class=\"sk-text-repr-fallback\"><pre>LinearRegression()</pre><b>In a Jupyter environment, please rerun this cell to show the HTML representation or trust the notebook. <br />On GitHub, the HTML representation is unable to render, please try loading this page with nbviewer.org.</b></div><div class=\"sk-container\" hidden><div class=\"sk-item\"><div class=\"sk-estimator sk-toggleable\"><input class=\"sk-toggleable__control sk-hidden--visually\" id=\"sk-estimator-id-2\" type=\"checkbox\" checked><label for=\"sk-estimator-id-2\" class=\"sk-toggleable__label sk-toggleable__label-arrow\">LinearRegression</label><div class=\"sk-toggleable__content\"><pre>LinearRegression()</pre></div></div></div></div></div>"
      ],
      "text/plain": [
       "LinearRegression()"
      ]
     },
     "execution_count": 58,
     "metadata": {},
     "output_type": "execute_result"
    }
   ],
   "source": [
    "lr.fit(X_train,Y_train)"
   ]
  },
  {
   "cell_type": "code",
   "execution_count": 59,
   "id": "7dd00c9d",
   "metadata": {},
   "outputs": [
    {
     "data": {
      "text/plain": [
       "array([-1.40053336e-10, -6.77928370e-02, -4.52164860e+02,  6.96374460e+02,\n",
       "        5.86404597e+02,  2.64481799e-01,  8.95694951e-02,  2.38924691e+11,\n",
       "        5.21155770e-01,  1.24928205e+02, -8.72096941e+01, -3.83066753e+01,\n",
       "       -2.53576661e-01, -2.05466494e-01,  7.01038377e+11, -1.44956698e+04,\n",
       "        1.51872769e+04,  1.37183215e+04,  2.54938502e+00,  3.82150519e+01,\n",
       "       -1.04582217e+12,  1.07240585e+03, -1.72413955e+04, -3.51217651e+01,\n",
       "        2.54551228e+01,  3.18424605e+11,  1.75822405e+03,  3.22530407e+01,\n",
       "       -6.27762843e+01,  1.76969869e+12,  6.65159720e-02, -2.00115036e+00,\n",
       "       -6.48466398e+11,  1.14117574e+00, -1.30051910e+12, -6.33825209e+10])"
      ]
     },
     "execution_count": 59,
     "metadata": {},
     "output_type": "execute_result"
    }
   ],
   "source": [
    "lr.coef_"
   ]
  },
  {
   "cell_type": "code",
   "execution_count": 60,
   "id": "a1a02132",
   "metadata": {},
   "outputs": [
    {
     "data": {
      "text/plain": [
       "865.1969335104448"
      ]
     },
     "execution_count": 60,
     "metadata": {},
     "output_type": "execute_result"
    }
   ],
   "source": [
    "lr.intercept_"
   ]
  },
  {
   "cell_type": "code",
   "execution_count": 61,
   "id": "85bb7ca2",
   "metadata": {},
   "outputs": [],
   "source": [
    "y_pred=lr.predict(X_test)"
   ]
  },
  {
   "cell_type": "code",
   "execution_count": 62,
   "id": "273969e3",
   "metadata": {},
   "outputs": [
    {
     "data": {
      "text/plain": [
       "array([ 296.95927882,  467.41212535,  929.11237502, ...,  276.95697761,\n",
       "       3171.67065215,  100.75690532])"
      ]
     },
     "execution_count": 62,
     "metadata": {},
     "output_type": "execute_result"
    }
   ],
   "source": [
    "y_pred"
   ]
  },
  {
   "cell_type": "code",
   "execution_count": 63,
   "id": "619b47cf",
   "metadata": {},
   "outputs": [
    {
     "data": {
      "text/html": [
       "<div>\n",
       "<style scoped>\n",
       "    .dataframe tbody tr th:only-of-type {\n",
       "        vertical-align: middle;\n",
       "    }\n",
       "\n",
       "    .dataframe tbody tr th {\n",
       "        vertical-align: top;\n",
       "    }\n",
       "\n",
       "    .dataframe thead th {\n",
       "        text-align: right;\n",
       "    }\n",
       "</style>\n",
       "<table border=\"1\" class=\"dataframe\">\n",
       "  <thead>\n",
       "    <tr style=\"text-align: right;\">\n",
       "      <th></th>\n",
       "      <th>Actual op</th>\n",
       "      <th>predict op</th>\n",
       "    </tr>\n",
       "  </thead>\n",
       "  <tbody>\n",
       "    <tr>\n",
       "      <th>1673</th>\n",
       "      <td>293.668335</td>\n",
       "      <td>296.959279</td>\n",
       "    </tr>\n",
       "    <tr>\n",
       "      <th>2030</th>\n",
       "      <td>464.641052</td>\n",
       "      <td>467.412125</td>\n",
       "    </tr>\n",
       "    <tr>\n",
       "      <th>2605</th>\n",
       "      <td>929.098389</td>\n",
       "      <td>929.112375</td>\n",
       "    </tr>\n",
       "    <tr>\n",
       "      <th>2742</th>\n",
       "      <td>1213.214966</td>\n",
       "      <td>1215.522240</td>\n",
       "    </tr>\n",
       "    <tr>\n",
       "      <th>1884</th>\n",
       "      <td>488.232086</td>\n",
       "      <td>490.080982</td>\n",
       "    </tr>\n",
       "    <tr>\n",
       "      <th>...</th>\n",
       "      <td>...</td>\n",
       "      <td>...</td>\n",
       "    </tr>\n",
       "    <tr>\n",
       "      <th>3745</th>\n",
       "      <td>1824.891602</td>\n",
       "      <td>1803.741250</td>\n",
       "    </tr>\n",
       "    <tr>\n",
       "      <th>1074</th>\n",
       "      <td>194.601593</td>\n",
       "      <td>196.892837</td>\n",
       "    </tr>\n",
       "    <tr>\n",
       "      <th>1556</th>\n",
       "      <td>279.007111</td>\n",
       "      <td>276.956978</td>\n",
       "    </tr>\n",
       "    <tr>\n",
       "      <th>4306</th>\n",
       "      <td>3183.446533</td>\n",
       "      <td>3171.670652</td>\n",
       "    </tr>\n",
       "    <tr>\n",
       "      <th>1330</th>\n",
       "      <td>100.923714</td>\n",
       "      <td>100.756905</td>\n",
       "    </tr>\n",
       "  </tbody>\n",
       "</table>\n",
       "<p>1339 rows × 2 columns</p>\n",
       "</div>"
      ],
      "text/plain": [
       "        Actual op   predict op\n",
       "1673   293.668335   296.959279\n",
       "2030   464.641052   467.412125\n",
       "2605   929.098389   929.112375\n",
       "2742  1213.214966  1215.522240\n",
       "1884   488.232086   490.080982\n",
       "...           ...          ...\n",
       "3745  1824.891602  1803.741250\n",
       "1074   194.601593   196.892837\n",
       "1556   279.007111   276.956978\n",
       "4306  3183.446533  3171.670652\n",
       "1330   100.923714   100.756905\n",
       "\n",
       "[1339 rows x 2 columns]"
      ]
     },
     "execution_count": 63,
     "metadata": {},
     "output_type": "execute_result"
    }
   ],
   "source": [
    "dict={\"Actual op\":Y_test,'predict op':y_pred}\n",
    "df2=pd.DataFrame(dict)\n",
    "df2"
   ]
  },
  {
   "cell_type": "code",
   "execution_count": 64,
   "id": "a3ddbfff",
   "metadata": {},
   "outputs": [
    {
     "name": "stdout",
     "output_type": "stream",
     "text": [
      "mean sqaured error 5.3740022102295665e+23\n"
     ]
    }
   ],
   "source": [
    "print(\"mean sqaured error\",mean_squared_error(Y_test,y_pred))"
   ]
  },
  {
   "cell_type": "code",
   "execution_count": 65,
   "id": "d38bcddd",
   "metadata": {},
   "outputs": [
    {
     "name": "stdout",
     "output_type": "stream",
     "text": [
      "5.3740022102295665e+23\n",
      "Root Mean Squared Error 733075863074.8639\n"
     ]
    }
   ],
   "source": [
    "mse=mean_squared_error(Y_test,y_pred)\n",
    "print(mse)\n",
    "#check for root of mean square  :--- error minmize error\n",
    "rmse=np.sqrt(mse)\n",
    "print(\"Root Mean Squared Error\",rmse)"
   ]
  },
  {
   "cell_type": "code",
   "execution_count": 66,
   "id": "42969e46",
   "metadata": {},
   "outputs": [
    {
     "name": "stdout",
     "output_type": "stream",
     "text": [
      "r2_score -7.831014922062097e+17\n"
     ]
    }
   ],
   "source": [
    "from sklearn.metrics import r2_score\n",
    "print('r2_score',r2_score(Y_test,y_pred))"
   ]
  },
  {
   "cell_type": "code",
   "execution_count": 67,
   "id": "f2b9dcde",
   "metadata": {},
   "outputs": [
    {
     "name": "stdout",
     "output_type": "stream",
     "text": [
      "Residual error for each data points  1673    -3.290944\n",
      "2030    -2.771073\n",
      "2605    -0.013986\n",
      "2742    -2.307274\n",
      "1884    -1.848896\n",
      "          ...    \n",
      "3745    21.150352\n",
      "1074    -2.291244\n",
      "1556     2.050133\n",
      "4306    11.775881\n",
      "1330     0.166808\n",
      "Name: Close, Length: 1339, dtype: float64\n"
     ]
    }
   ],
   "source": [
    "residual_error=Y_test-y_pred\n",
    "print('Residual error for each data points ',residual_error)"
   ]
  },
  {
   "cell_type": "code",
   "execution_count": 68,
   "id": "fa1513b5",
   "metadata": {},
   "outputs": [
    {
     "data": {
      "image/png": "[encoded data removed]",
      "text/plain": [
       "<Figure size 640x480 with 1 Axes>"
      ]
     },
     "metadata": {},
     "output_type": "display_data"
    }
   ],
   "source": [
    "import matplotlib.pyplot as plt\n",
    "plt.scatter(y_pred,residual_error)\n",
    "# sb.scatterplot(y_pred,residual_error)\n",
    "# plt.plot(y_pred,residual_error,color='red')\n",
    "plt.xlabel('PRedicted')\n",
    "plt.ylabel('Residual error')\n",
    "plt.show()"
   ]
  },
  {
   "cell_type": "code",
   "execution_count": 69,
   "id": "98ec4d64",
   "metadata": {},
   "outputs": [],
   "source": [
    "# sb.histplot(residual_error)\n",
    "# plt.show()"
   ]
  },
  {
   "cell_type": "code",
   "execution_count": 70,
   "id": "7db005cc",
   "metadata": {},
   "outputs": [
    {
     "data": {
      "image/png": "[encoded data removed]",
      "text/plain": [
       "<Figure size 640x480 with 1 Axes>"
      ]
     },
     "metadata": {},
     "output_type": "display_data"
    }
   ],
   "source": [
    "sb.distplot(residual_error,hist=True)\n",
    "plt.show()"
   ]
  },
  {
   "cell_type": "code",
   "execution_count": 71,
   "id": "2503a796",
   "metadata": {},
   "outputs": [
    {
     "data": {
      "image/png": "[encoded data removed]",
      "text/plain": [
       "<Figure size 640x480 with 1 Axes>"
      ]
     },
     "metadata": {},
     "output_type": "display_data"
    }
   ],
   "source": [
    "sb.distplot(residual_error,hist=False)\n",
    "plt.show()"
   ]
  },
  {
   "cell_type": "code",
   "execution_count": 72,
   "id": "2d34bfb5",
   "metadata": {},
   "outputs": [
    {
     "name": "stdout",
     "output_type": "stream",
     "text": [
      "-36.59234892706401\n"
     ]
    }
   ],
   "source": [
    "print(residual_error.skew()) #hence linearRegression is value and satisifies maximum requirements"
   ]
  },
  {
   "cell_type": "code",
   "execution_count": null,
   "id": "83c1a842",
   "metadata": {},
   "outputs": [],
   "source": []
  }
 ],
 "metadata": {
  "kernelspec": {
   "display_name": "Python 3 (ipykernel)",
   "language": "python",
   "name": "python3"
  },
  "language_info": {
   "codemirror_mode": {
    "name": "ipython",
    "version": 3
   },
   "file_extension": ".py",
   "mimetype": "text/x-python",
   "name": "python",
   "nbconvert_exporter": "python",
   "pygments_lexer": "ipython3",
   "version": "3.11.3"
  }
 },
 "nbformat": 4,
 "nbformat_minor": 5
}
